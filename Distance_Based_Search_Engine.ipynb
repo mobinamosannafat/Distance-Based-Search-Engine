{
  "nbformat": 4,
  "nbformat_minor": 0,
  "metadata": {
    "colab": {
      "name": "Distance Based Search Engine.ipynb",
      "provenance": [],
      "collapsed_sections": []
    },
    "kernelspec": {
      "display_name": "Python 3",
      "name": "python3"
    },
    "language_info": {
      "name": "python"
    }
  },
  "cells": [
    {
      "cell_type": "code",
      "metadata": {
        "colab": {
          "base_uri": "https://localhost:8080/"
        },
        "id": "wTM31kni2IbX",
        "outputId": "aeddfe75-e23d-46e9-c59e-4f2647eda2b8"
      },
      "source": [
        "from google.colab import drive\n",
        "drive.mount('/content/drive')"
      ],
      "execution_count": 1,
      "outputs": [
        {
          "output_type": "stream",
          "name": "stdout",
          "text": [
            "Mounted at /content/drive\n"
          ]
        }
      ]
    },
    {
      "cell_type": "code",
      "metadata": {
        "id": "3Hibb3fypIiN"
      },
      "source": [
        "import os\n",
        "import cv2\n",
        "from math import*\n",
        "import statistics\n",
        "import numpy as np\n",
        "from PIL import Image\n",
        "import matplotlib as plt\n",
        "from numpy import asarray\n",
        "from numpy import savetxt\n",
        "from decimal import Decimal\n",
        "from collections import Counter\n",
        "from sklearn.manifold import MDS\n",
        "from scipy.spatial import distance\n",
        "from google.colab.patches import cv2_imshow"
      ],
      "execution_count": null,
      "outputs": []
    },
    {
      "cell_type": "code",
      "metadata": {
        "id": "Kq2Arz5WpbOR"
      },
      "source": [
        "InputDir=\"/content/drive/MyDrive/Distance-Based-Search-Engine /images\" # Folder of input images\n",
        "OutDir=\"/content/drive/MyDrive/Distance-Based-Search-Engine /FeatureVectors\" # Folder of output\n",
        "size = 5063\n",
        "ret_size = 100"
      ],
      "execution_count": null,
      "outputs": []
    },
    {
      "cell_type": "code",
      "metadata": {
        "colab": {
          "base_uri": "https://localhost:8080/"
        },
        "id": "3k8EBBsupeBs",
        "outputId": "cc2c4f5f-bad1-4bb1-c30f-4b102a79e60b"
      },
      "source": [
        "cd /content/drive/MyDrive/Distance-Based-Search-Engine /FeatureVectors"
      ],
      "execution_count": null,
      "outputs": [
        {
          "output_type": "stream",
          "text": [
            "/content/drive/MyDrive/IR_ProExc2/FeatureVectors\n"
          ],
          "name": "stdout"
        }
      ]
    },
    {
      "cell_type": "code",
      "metadata": {
        "id": "3sLvoJaTpgiO"
      },
      "source": [
        "h = 256\n",
        "histograms = np.arange(size*h*3).reshape(size,h,3)\n",
        "i = 0\n",
        "for RImgName in os.listdir(InputDir):\n",
        "  if RImgName == '.ipynb_checkpoints':\n",
        "    pass\n",
        "  else:\n",
        "    InPath=InputDir+\"/\"+RImgName\n",
        "    img=cv2.imread(InPath)\n",
        "\n",
        "    RHist = cv2.calcHist([img],[0],None,[256],[0,256]).reshape(256)\n",
        "    GHist = cv2.calcHist([img],[1],None,[256],[0,256]).reshape(256)\n",
        "    BHist = cv2.calcHist([img],[2],None,[256],[0,256]).reshape(256)\n",
        "\n",
        "    histograms[i,:,0] = RHist\n",
        "    histograms[i,:,1] = GHist\n",
        "    histograms[i,:,2] = BHist\n",
        "\n",
        "    i += 1"
      ],
      "execution_count": null,
      "outputs": []
    },
    {
      "cell_type": "code",
      "metadata": {
        "id": "Kfyc7spUqfV2"
      },
      "source": [
        "file1 = open(OutDir+\"/img_names1.txt\",\"w+\")\n",
        "D_Euclidean = np.arange(size*size).reshape(size,size)\n",
        "i=0\n",
        "j = 0\n",
        "for RImgName in os.listdir(InputDir):\n",
        "  j = 0\n",
        "  if i == size:\n",
        "    break\n",
        "  file1.writelines(RImgName + '\\n')\n",
        "  for CImgName in os.listdir(InputDir):\n",
        "    if j > i:\n",
        "      break\n",
        "    if i == j:\n",
        "      D_Euclidean[i,j] = 0 \n",
        "    else:\n",
        "      ColHist = histograms[j]\n",
        "      RowHist = histograms[i]\n",
        "      D_Euclidean[i,j] = np.linalg.norm(ColHist - RowHist)\n",
        "      D_Euclidean[j,i] = D_Euclidean[i,j]\n",
        "    j += 1\n",
        "  i += 1\n",
        "file1.close()\n",
        "savetxt('distance_matrix1.csv', D_Euclidean)"
      ],
      "execution_count": null,
      "outputs": []
    },
    {
      "cell_type": "code",
      "metadata": {
        "colab": {
          "base_uri": "https://localhost:8080/"
        },
        "id": "Z6_eLNakaPdI",
        "outputId": "93e23341-5736-42b8-ddbd-9bf910a54ad4"
      },
      "source": [
        "D = np.loadtxt('distance_matrix1.csv')\n",
        "print(D.shape)"
      ],
      "execution_count": null,
      "outputs": [
        {
          "output_type": "stream",
          "text": [
            "(5063, 5063)\n"
          ],
          "name": "stdout"
        }
      ]
    },
    {
      "cell_type": "code",
      "metadata": {
        "colab": {
          "base_uri": "https://localhost:8080/"
        },
        "id": "wCpBLG6x0cqM",
        "outputId": "a17ec9ee-d04a-4e59-b6f1-c853b7ec3d9a"
      },
      "source": [
        "D = np.loadtxt('distance_matrix1.csv')\n",
        "\n",
        "mds = MDS(30,random_state=0)\n",
        "feature_vectores = mds.fit_transform(D)\n",
        "\n",
        "savetxt('feature_vectores1.csv', feature_vectores)"
      ],
      "execution_count": null,
      "outputs": [
        {
          "output_type": "stream",
          "text": [
            "/usr/local/lib/python3.7/dist-packages/sklearn/manifold/_mds.py:419: UserWarning: The MDS API has changed. ``fit`` now constructs an dissimilarity matrix from data. To use a custom dissimilarity matrix, set ``dissimilarity='precomputed'``.\n",
            "  warnings.warn(\"The MDS API has changed. ``fit`` now constructs an\"\n"
          ],
          "name": "stderr"
        }
      ]
    },
    {
      "cell_type": "code",
      "metadata": {
        "colab": {
          "base_uri": "https://localhost:8080/"
        },
        "id": "spLr8kixgHxI",
        "outputId": "f88191fb-b8b8-463e-d755-9b47e95e9c37"
      },
      "source": [
        "v = np.loadtxt('feature_vectores1.csv')\n",
        "print(v.shape)"
      ],
      "execution_count": null,
      "outputs": [
        {
          "output_type": "stream",
          "text": [
            "(5063, 30)\n"
          ],
          "name": "stdout"
        }
      ]
    },
    {
      "cell_type": "code",
      "metadata": {
        "id": "rn8Vxy4v6vyk"
      },
      "source": [
        "def get_name(num):\n",
        "  file1 = open(OutDir+\"/img_names1.txt\",\"r\")\n",
        "  for i in range (0,size):\n",
        "    line = file1.readline()\n",
        "    if i == num:\n",
        "      file1.close()\n",
        "      return line\n",
        "    else:\n",
        "      pass\n",
        "\n",
        "def get_number(name):\n",
        "  i = 0\n",
        "  file1 = open(OutDir+\"/img_names1.txt\",\"r\")\n",
        "  for line in file1:\n",
        "    dd = line.rstrip('\\n').replace(\" \", \"\")\n",
        "    if dd == name:\n",
        "      file1.close()\n",
        "      return i\n",
        "    else:\n",
        "      i += 1"
      ],
      "execution_count": null,
      "outputs": []
    },
    {
      "cell_type": "markdown",
      "metadata": {
        "id": "Uz3JqovmeLKK"
      },
      "source": [
        "##Distance for all queries for mean precision and recall"
      ]
    },
    {
      "cell_type": "code",
      "metadata": {
        "id": "4f6xXY3AT62l"
      },
      "source": [
        "queries = []\n",
        "Qfile = open(\"/content/drive/MyDrive/Distance-Based-Search-Engine /Query/queries.txt\",\"r\")\n",
        "for line in Qfile:\n",
        "  name = line.rstrip('\\n').replace(\" \", \"\")\n",
        "  queries.append(name)\n",
        "Qfile.close()"
      ],
      "execution_count": null,
      "outputs": []
    },
    {
      "cell_type": "code",
      "metadata": {
        "id": "311fa3w3hupU"
      },
      "source": [
        "def argsort(seq):\n",
        "    return sorted(range(len(seq)), key=seq.__getitem__)"
      ],
      "execution_count": null,
      "outputs": []
    },
    {
      "cell_type": "markdown",
      "metadata": {
        "id": "iPZl0xaX7Iwl"
      },
      "source": [
        "###Eucleadian Distance\n"
      ]
    },
    {
      "cell_type": "code",
      "metadata": {
        "id": "4oyPaossdN0B"
      },
      "source": [
        "path = \"/content/drive/MyDrive/Distance-Based-Search-Engine /ground_truth\"\n",
        "v = np.loadtxt('feature_vectores1.csv')"
      ],
      "execution_count": null,
      "outputs": []
    },
    {
      "cell_type": "code",
      "metadata": {
        "colab": {
          "base_uri": "https://localhost:8080/"
        },
        "id": "HB9Xx5EI7aMB",
        "outputId": "2a018c4c-cfb6-4670-feea-b41d52565cd9"
      },
      "source": [
        "EuclideanDistance = []\n",
        "num_of_good_imgs = []\n",
        "precision = []\n",
        "recall = []\n",
        "query_set = []\n",
        "k = 0\n",
        "\n",
        "for input_name in queries:\n",
        "  tp = 0\n",
        "  k += 1\n",
        "  input_number = get_number(input_name + \".jpg\")\n",
        "  query_vect = v[input_number]\n",
        "  \n",
        "  for l in range(size):\n",
        "    img_vect = v[l]\n",
        "    EuclideanDistance.append(distance.euclidean(query_vect, img_vect))\n",
        "\n",
        "  EuclideanDistance_min = argsort(EuclideanDistance)[:ret_size] #give us index of k minimum distance\n",
        "\n",
        "  file2 = open(path + input_name + \".txt\",\"r\")\n",
        "  for line in file2:\n",
        "    dd = line.rstrip('\\n').replace(\" \", \"\")\n",
        "    query_set.append(dd + '.jpg')\n",
        "  num_of_good_imgs = len(query_set)\n",
        "  for i in EuclideanDistance_min:\n",
        "    img_name = get_name(i).rstrip()\n",
        "    for j in query_set:\n",
        "      if img_name == j:\n",
        "        tp += 1\n",
        "      else:\n",
        "        pass\n",
        "\n",
        "  file2.close()\n",
        "  precision.append(tp / ret_size)\n",
        "  recall.append(tp / num_of_good_imgs)\n",
        "  EuclideanDistance.clear()\n",
        "  query_set.clear()\n",
        "\n",
        "precision_mean = statistics.mean(precision)\n",
        "recall_mean = statistics.mean(recall)\n",
        "\n",
        "print(precision)\n",
        "print(recall)\n",
        "print(\"\\n Mean Precision: \" ,precision_mean)\n",
        "print(\"\\n Mean Recall: \" ,recall_mean)"
      ],
      "execution_count": null,
      "outputs": [
        {
          "output_type": "stream",
          "text": [
            "[0.02, 0.01, 0.04, 0.01, 0.02, 0.01, 0.01, 0.0, 0.02, 0.01, 0.01, 0.0, 0.0, 0.01, 0.0, 0.03, 0.0, 0.03, 0.01, 0.01, 0.01, 0.02, 0.01, 0.03, 0.0, 0.01, 0.0, 0.01, 0.01, 0.01, 0.01, 0.02, 0.01, 0.02, 0.02, 0.01, 0.01, 0.02, 0.01, 0.01, 0.01, 0.0, 0.03, 0.0, 0.01, 0.01, 0.01, 0.01, 0.0, 0.0, 0.02, 0.05, 0.03, 0.01, 0.09]\n",
            "[0.08333333333333333, 0.041666666666666664, 0.16666666666666666, 0.041666666666666664, 0.08333333333333333, 0.08333333333333333, 0.08333333333333333, 0.0, 0.16666666666666666, 0.08333333333333333, 0.2, 0.0, 0.0, 0.2, 0.0, 0.23076923076923078, 0.0, 0.23076923076923078, 0.07692307692307693, 0.07692307692307693, 0.0196078431372549, 0.0392156862745098, 0.0196078431372549, 0.058823529411764705, 0.0, 0.2, 0.0, 0.2, 0.2, 0.2, 0.02857142857142857, 0.05714285714285714, 0.02857142857142857, 0.05714285714285714, 0.05714285714285714, 0.16666666666666666, 0.16666666666666666, 0.3333333333333333, 0.16666666666666666, 0.16666666666666666, 0.07692307692307693, 0.0, 0.23076923076923078, 0.0, 0.07692307692307693, 0.3333333333333333, 0.3333333333333333, 0.3333333333333333, 0.0, 0.0, 0.01904761904761905, 0.047619047619047616, 0.02857142857142857, 0.009523809523809525, 0.08571428571428572]\n",
            "\n",
            " Mean Precision:  0.014181818181818183\n",
            "\n",
            " Mean Recall:  0.1016297428062134\n"
          ],
          "name": "stdout"
        }
      ]
    },
    {
      "cell_type": "markdown",
      "metadata": {
        "id": "DLZqrYYGfC0t"
      },
      "source": [
        "###Cosine Distance"
      ]
    },
    {
      "cell_type": "code",
      "metadata": {
        "colab": {
          "base_uri": "https://localhost:8080/"
        },
        "id": "SJlWgqr9fBmS",
        "outputId": "469a71b9-7022-413a-91aa-8737cbc77912"
      },
      "source": [
        "CosineDistance = []\n",
        "num_of_good_imgs2 = []\n",
        "precision2 = []\n",
        "recall2 = []\n",
        "query_set2 = []\n",
        "k = 0\n",
        "for input_name in queries:\n",
        "  tp = 0\n",
        "  k += 1\n",
        "  input_number = get_number(input_name + \".jpg\")\n",
        "  query_vect = v[input_number]\n",
        "  \n",
        "  for l in range(size):\n",
        "    img_vect = v[l]\n",
        "    CosineDistance.append(distance.cosine(query_vect, img_vect))\n",
        "\n",
        "  CosineDistance_min= argsort(CosineDistance)[:ret_size] #give us index of k minimum distance\n",
        "\n",
        "  file2 = open(path + input_name + \".txt\",\"r\")\n",
        "  for line in file2:\n",
        "    dd = line.rstrip('\\n').replace(\" \", \"\")\n",
        "    query_set2.append(dd + '.jpg')\n",
        "  num_of_good_imgs2 = len(query_set2)\n",
        "  for i in CosineDistance_min:\n",
        "    img_name = get_name(i).rstrip()\n",
        "    for j in query_set2:\n",
        "      if img_name == j:\n",
        "        tp += 1\n",
        "      else:\n",
        "        pass\n",
        "\n",
        "  file2.close()\n",
        "  precision2.append(tp / ret_size)\n",
        "  recall2.append(tp / num_of_good_imgs2)\n",
        "  CosineDistance.clear()\n",
        "  query_set2.clear()\n",
        "\n",
        "precision_mean2 = statistics.mean(precision2)\n",
        "recall_mean2 = statistics.mean(recall2)\n",
        "\n",
        "print(\"Precisions: \", precision2)\n",
        "print(\"Recalls: \", recall2)\n",
        "print(\"\\n Mean Precision: \" ,precision_mean2)\n",
        "print(\"\\n Mean Recall: \" ,recall_mean2)"
      ],
      "execution_count": null,
      "outputs": [
        {
          "output_type": "stream",
          "text": [
            "Precisions:  [0.02, 0.01, 0.04, 0.0, 0.02, 0.01, 0.01, 0.01, 0.01, 0.01, 0.01, 0.0, 0.01, 0.01, 0.0, 0.02, 0.0, 0.02, 0.01, 0.01, 0.02, 0.02, 0.01, 0.02, 0.0, 0.01, 0.0, 0.01, 0.01, 0.01, 0.01, 0.02, 0.03, 0.02, 0.03, 0.01, 0.01, 0.02, 0.01, 0.01, 0.02, 0.0, 0.03, 0.0, 0.01, 0.01, 0.01, 0.01, 0.0, 0.0, 0.02, 0.03, 0.03, 0.01, 0.05]\n",
            "Recalls:  [0.08333333333333333, 0.041666666666666664, 0.16666666666666666, 0.0, 0.08333333333333333, 0.08333333333333333, 0.08333333333333333, 0.08333333333333333, 0.08333333333333333, 0.08333333333333333, 0.2, 0.0, 0.2, 0.2, 0.0, 0.15384615384615385, 0.0, 0.15384615384615385, 0.07692307692307693, 0.07692307692307693, 0.0392156862745098, 0.0392156862745098, 0.0196078431372549, 0.0392156862745098, 0.0, 0.2, 0.0, 0.2, 0.2, 0.2, 0.02857142857142857, 0.05714285714285714, 0.08571428571428572, 0.05714285714285714, 0.08571428571428572, 0.16666666666666666, 0.16666666666666666, 0.3333333333333333, 0.16666666666666666, 0.16666666666666666, 0.15384615384615385, 0.0, 0.23076923076923078, 0.0, 0.07692307692307693, 0.3333333333333333, 0.3333333333333333, 0.3333333333333333, 0.0, 0.0, 0.01904761904761905, 0.02857142857142857, 0.02857142857142857, 0.009523809523809525, 0.047619047619047616]\n",
            "\n",
            " Mean Precision:  0.013454545454545455\n",
            "\n",
            " Mean Recall:  0.1036294098058804\n"
          ],
          "name": "stdout"
        }
      ]
    },
    {
      "cell_type": "markdown",
      "metadata": {
        "id": "ajcc0M1IiRNz"
      },
      "source": [
        "###Minkowski Distance"
      ]
    },
    {
      "cell_type": "code",
      "metadata": {
        "colab": {
          "base_uri": "https://localhost:8080/"
        },
        "id": "gucX8mAPiYlD",
        "outputId": "0c68a359-beda-4541-8f87-d58c4bbb8746"
      },
      "source": [
        "MinkowskiDistance = []\n",
        "num_of_good_imgs3 = []\n",
        "precision3 = []\n",
        "recall3 = []\n",
        "query_set3 = []\n",
        "k = 0\n",
        "for input_name in queries:\n",
        "  tp = 0\n",
        "  k += 1\n",
        "  input_number = get_number(input_name + \".jpg\")\n",
        "  query_vect = v[input_number]\n",
        "  \n",
        "  for l in range(size):\n",
        "    img_vect = v[l]\n",
        "    MinkowskiDistance.append(distance.minkowski(query_vect, img_vect))\n",
        "\n",
        "  MinkowskiDistance_min= argsort(MinkowskiDistance)[:ret_size] #give us index of k minimum distance\n",
        "\n",
        "  file2 = open(path + input_name + \".txt\",\"r\")\n",
        "  for line in file2:\n",
        "    dd = line.rstrip('\\n').replace(\" \", \"\")\n",
        "    query_set3.append(dd + '.jpg')\n",
        "  num_of_good_imgs3 = len(query_set3)\n",
        "  for i in MinkowskiDistance_min:\n",
        "    img_name = get_name(i).rstrip()\n",
        "    for j in query_set3:\n",
        "      if img_name == j:\n",
        "        tp += 1\n",
        "      else:\n",
        "        pass\n",
        "\n",
        "  file2.close()\n",
        "  precision3.append(tp / ret_size)\n",
        "  recall3.append(tp / num_of_good_imgs3)\n",
        "  MinkowskiDistance.clear()\n",
        "  query_set3.clear()\n",
        "\n",
        "precision_mean3 = statistics.mean(precision3)\n",
        "recall_mean3 = statistics.mean(recall3)\n",
        "\n",
        "print(\"Precisions: \", precision3)\n",
        "print(\"Recalls: \", recall3)\n",
        "print(\"\\n Mean Precision: \" ,precision_mean3)\n",
        "print(\"\\n Mean Recall: \" ,recall_mean3)"
      ],
      "execution_count": null,
      "outputs": [
        {
          "output_type": "stream",
          "text": [
            "Precisions:  [0.02, 0.01, 0.04, 0.01, 0.02, 0.01, 0.01, 0.0, 0.02, 0.01, 0.01, 0.0, 0.0, 0.01, 0.0, 0.03, 0.0, 0.03, 0.01, 0.01, 0.01, 0.02, 0.01, 0.03, 0.0, 0.01, 0.0, 0.01, 0.01, 0.01, 0.01, 0.02, 0.01, 0.02, 0.02, 0.01, 0.01, 0.02, 0.01, 0.01, 0.01, 0.0, 0.03, 0.0, 0.01, 0.01, 0.01, 0.01, 0.0, 0.0, 0.02, 0.05, 0.03, 0.01, 0.09]\n",
            "Recalls:  [0.08333333333333333, 0.041666666666666664, 0.16666666666666666, 0.041666666666666664, 0.08333333333333333, 0.08333333333333333, 0.08333333333333333, 0.0, 0.16666666666666666, 0.08333333333333333, 0.2, 0.0, 0.0, 0.2, 0.0, 0.23076923076923078, 0.0, 0.23076923076923078, 0.07692307692307693, 0.07692307692307693, 0.0196078431372549, 0.0392156862745098, 0.0196078431372549, 0.058823529411764705, 0.0, 0.2, 0.0, 0.2, 0.2, 0.2, 0.02857142857142857, 0.05714285714285714, 0.02857142857142857, 0.05714285714285714, 0.05714285714285714, 0.16666666666666666, 0.16666666666666666, 0.3333333333333333, 0.16666666666666666, 0.16666666666666666, 0.07692307692307693, 0.0, 0.23076923076923078, 0.0, 0.07692307692307693, 0.3333333333333333, 0.3333333333333333, 0.3333333333333333, 0.0, 0.0, 0.01904761904761905, 0.047619047619047616, 0.02857142857142857, 0.009523809523809525, 0.08571428571428572]\n",
            "\n",
            " Mean Precision:  0.014181818181818183\n",
            "\n",
            " Mean Recall:  0.1016297428062134\n"
          ],
          "name": "stdout"
        }
      ]
    },
    {
      "cell_type": "markdown",
      "metadata": {
        "id": "hkfSXFLYjFIX"
      },
      "source": [
        "###Jaccard Distance"
      ]
    },
    {
      "cell_type": "code",
      "metadata": {
        "colab": {
          "base_uri": "https://localhost:8080/"
        },
        "id": "0Iri3tFDjHyl",
        "outputId": "9ddc7bd0-4f27-4a7c-df7d-31ae1b5881de"
      },
      "source": [
        "JaccardDistance = []\n",
        "num_of_good_imgs4 = []\n",
        "precision4 = []\n",
        "recall4 = []\n",
        "query_set4 = []\n",
        "k = 0\n",
        "for input_name in queries:\n",
        "  tp = 0\n",
        "  k += 1\n",
        "  input_number = get_number(input_name + \".jpg\")\n",
        "  query_vect = v[input_number]\n",
        "  \n",
        "  for l in range(size):\n",
        "    img_vect = v[l]\n",
        "    JaccardDistance.append(distance.jaccard(query_vect, img_vect))\n",
        "\n",
        "  JaccardDistance_min= argsort(JaccardDistance)[:ret_size] #give us index of k minimum distance\n",
        "\n",
        "  file2 = open(path + input_name + \".txt\",\"r\")\n",
        "  for line in file2:\n",
        "    dd = line.rstrip('\\n').replace(\" \", \"\")\n",
        "    query_set4.append(dd + '.jpg')\n",
        "\n",
        "  num_of_good_imgs4 = len(query_set4)\n",
        "  \n",
        "  for i in JaccardDistance_min:\n",
        "    img_name = get_name(i).rstrip()\n",
        "    for j in query_set4:\n",
        "      if img_name == j:\n",
        "        tp += 1\n",
        "      else:\n",
        "        pass\n",
        "\n",
        "  file2.close()\n",
        "  precision4.append(tp / ret_size)\n",
        "  recall4.append(tp / num_of_good_imgs4)\n",
        "  JaccardDistance.clear()\n",
        "  query_set4.clear()\n",
        "\n",
        "precision_mean4 = statistics.mean(precision4)\n",
        "recall_mean4 = statistics.mean(recall4)\n",
        "\n",
        "print(\"Precisions: \", precision4)\n",
        "print(\"Recalls: \", recall4)\n",
        "print(\"\\n Mean Precision: \" ,precision_mean4)\n",
        "print(\"\\n Mean Recall: \" ,recall_mean4)"
      ],
      "execution_count": null,
      "outputs": [
        {
          "output_type": "stream",
          "text": [
            "Precisions:  [0.01, 0.01, 0.01, 0.0, 0.01, 0.01, 0.01, 0.0, 0.01, 0.0, 0.01, 0.0, 0.0, 0.01, 0.0, 0.01, 0.0, 0.01, 0.01, 0.01, 0.01, 0.01, 0.01, 0.01, 0.0, 0.01, 0.0, 0.01, 0.01, 0.01, 0.02, 0.02, 0.02, 0.02, 0.02, 0.01, 0.01, 0.01, 0.01, 0.01, 0.01, 0.0, 0.01, 0.0, 0.01, 0.01, 0.01, 0.01, 0.0, 0.0, 0.02, 0.02, 0.02, 0.01, 0.02]\n",
            "Recalls:  [0.041666666666666664, 0.041666666666666664, 0.041666666666666664, 0.0, 0.041666666666666664, 0.08333333333333333, 0.08333333333333333, 0.0, 0.08333333333333333, 0.0, 0.2, 0.0, 0.0, 0.2, 0.0, 0.07692307692307693, 0.0, 0.07692307692307693, 0.07692307692307693, 0.07692307692307693, 0.0196078431372549, 0.0196078431372549, 0.0196078431372549, 0.0196078431372549, 0.0, 0.2, 0.0, 0.2, 0.2, 0.2, 0.05714285714285714, 0.05714285714285714, 0.05714285714285714, 0.05714285714285714, 0.05714285714285714, 0.16666666666666666, 0.16666666666666666, 0.16666666666666666, 0.16666666666666666, 0.16666666666666666, 0.07692307692307693, 0.0, 0.07692307692307693, 0.0, 0.07692307692307693, 0.3333333333333333, 0.3333333333333333, 0.3333333333333333, 0.0, 0.0, 0.01904761904761905, 0.01904761904761905, 0.01904761904761905, 0.009523809523809525, 0.01904761904761905]\n",
            "\n",
            " Mean Precision:  0.009272727272727273\n",
            "\n",
            " Mean Recall:  0.08069675422616598\n"
          ],
          "name": "stdout"
        }
      ]
    },
    {
      "cell_type": "markdown",
      "metadata": {
        "id": "7yVPZ12uar8P"
      },
      "source": [
        "##Code to retrieve and show relevant images"
      ]
    },
    {
      "cell_type": "markdown",
      "metadata": {
        "id": "fSTXbcqua8uF"
      },
      "source": [
        "###Enter query image"
      ]
    },
    {
      "cell_type": "code",
      "metadata": {
        "id": "iRDQfhpF61vB"
      },
      "source": [
        "retrieve_size = 20\n",
        "\n",
        "query_name = \"christ_church_000179\"\n",
        "query_number = get_number(query_name + \".jpg\")\n",
        "query_vector = v[query_number]\n",
        "\n",
        "query_file = open(path + query_name + \".txt\",\"r\")\n",
        "relevant_images = []\n",
        "for line in query_file:\n",
        "    dd = line.rstrip('\\n').replace(\" \", \"\")\n",
        "    relevant_images.append(dd + '.jpg')\n",
        "query_file.close()"
      ],
      "execution_count": null,
      "outputs": []
    },
    {
      "cell_type": "markdown",
      "metadata": {
        "id": "o-qD6wmsbCxj"
      },
      "source": [
        "###Euclidean Distance"
      ]
    },
    {
      "cell_type": "markdown",
      "metadata": {
        "id": "dg-FBL0cknIb"
      },
      "source": [
        "####Retrieve Images"
      ]
    },
    {
      "cell_type": "code",
      "metadata": {
        "id": "J5SNNS2z7CCs"
      },
      "source": [
        "EuclideanDistance = np.arange(size)\n",
        "for i in range(size):\n",
        "  img_vect = v[i]\n",
        "  EuclideanDistance[i] = distance.euclidean(query_vector, img_vect)\n",
        "\n",
        "EuclideanDistance_min = EuclideanDistance.argsort()[:retrieve_size] #give us index of k minimum distance\n",
        "\n",
        "for i in EuclideanDistance_min:\n",
        "  img_name = get_name(i).rstrip()\n",
        "  print(img_name + '\\n')\n",
        "  img_path = InputDir + img_name\n",
        "  img = cv2.imread(img_path, cv2.IMREAD_UNCHANGED)\n",
        "  cv2_imshow(img)\n",
        "  print('\\n...........................................................................')"
      ],
      "execution_count": null,
      "outputs": []
    },
    {
      "cell_type": "markdown",
      "metadata": {
        "id": "WiJDQicYku5N"
      },
      "source": [
        "####Calculate Precision and Recall"
      ]
    },
    {
      "cell_type": "code",
      "metadata": {
        "colab": {
          "base_uri": "https://localhost:8080/"
        },
        "id": "x9tNRL5eklBx",
        "outputId": "cbf44298-33b5-4e3a-b36e-292070611f05"
      },
      "source": [
        "euc_TP = 0\n",
        "for i in EuclideanDistance_min:\n",
        "  img_name = get_name(i).rstrip()\n",
        "  for j in relevant_images:\n",
        "    if img_name == j:\n",
        "      euc_TP += 1\n",
        "    else:\n",
        "      pass\n",
        "euc_precision = euc_TP/retrieve_size\n",
        "euc_recall = euc_TP/len(relevant_images)\n",
        "print(\"Precision: \", euc_precision)\n",
        "print(\"Recall: :\", euc_recall)"
      ],
      "execution_count": null,
      "outputs": [
        {
          "output_type": "stream",
          "text": [
            "Precision:  0.05\n",
            "Recall: : 0.0196078431372549\n"
          ],
          "name": "stdout"
        }
      ]
    },
    {
      "cell_type": "markdown",
      "metadata": {
        "id": "T5bSr7gxbICv"
      },
      "source": [
        "###Cosine Distance"
      ]
    },
    {
      "cell_type": "markdown",
      "metadata": {
        "id": "AAMBtEcFlTPb"
      },
      "source": [
        "####Retrieve Images"
      ]
    },
    {
      "cell_type": "code",
      "metadata": {
        "id": "-Dt1zNb9VTbw"
      },
      "source": [
        "CosineDistance = np.arange(size)\n",
        "for i in range(size):\n",
        "  img_vect = v[i]\n",
        "  CosineDistance[i] = distance.cosine(query_vector, img_vect)\n",
        "\n",
        "CosineDistance_min = CosineDistance.argsort()[:retrieve_size] #give us index of k minimum distance\n",
        "\n",
        "for i in CosineDistance_min:\n",
        "  img_name = get_name(i).rstrip()\n",
        "  print(img_name + '\\n')\n",
        "  img_path = InputDir + img_name\n",
        "  img = cv2.imread(img_path, cv2.IMREAD_UNCHANGED)\n",
        "  cv2_imshow(img)\n",
        "  print('\\n...........................................................................')"
      ],
      "execution_count": null,
      "outputs": []
    },
    {
      "cell_type": "markdown",
      "metadata": {
        "id": "LZVRS2_UlGJC"
      },
      "source": [
        "####Calculate Precision and Recall"
      ]
    },
    {
      "cell_type": "code",
      "metadata": {
        "colab": {
          "base_uri": "https://localhost:8080/"
        },
        "id": "tS8uBHMMVZW9",
        "outputId": "7930fa9c-f021-4ad0-bc02-0b4e7592a3e4"
      },
      "source": [
        "cos_TP = 0\n",
        "for i in CosineDistance_min:\n",
        "  img_name = get_name(i).rstrip()\n",
        "  for j in relevant_images:\n",
        "    if img_name == j:\n",
        "      cos_TP += 1\n",
        "    else:\n",
        "      pass\n",
        "cos_precision = cos_TP/retrieve_size\n",
        "cos_recall = cos_TP/len(relevant_images)\n",
        "print(\"Precision: \", cos_precision)\n",
        "print(\"Recall: \", cos_recall)"
      ],
      "execution_count": null,
      "outputs": [
        {
          "output_type": "stream",
          "text": [
            "Precision:  0.0\n",
            "Recall:  0.0\n"
          ],
          "name": "stdout"
        }
      ]
    },
    {
      "cell_type": "markdown",
      "metadata": {
        "id": "N0KqAKi0bNm7"
      },
      "source": [
        "###Minkowski Distance"
      ]
    },
    {
      "cell_type": "markdown",
      "metadata": {
        "id": "tPb7qjVklUV_"
      },
      "source": [
        "####Retrieve Images"
      ]
    },
    {
      "cell_type": "code",
      "metadata": {
        "id": "SmT0d0AiWEy8"
      },
      "source": [
        "MinkowskiDistance = np.arange(size)\n",
        "for i in range(size):\n",
        "  img_vect = v[i]\n",
        "  MinkowskiDistance[i] = distance.minkowski(query_vector, img_vect)\n",
        "\n",
        "MinkowskiDistance_min = MinkowskiDistance.argsort()[:retrieve_size] #give us index of k minimum distance\n",
        "\n",
        "for i in MinkowskiDistance_min:\n",
        "  img_name = get_name(i).rstrip()\n",
        "  print(img_name + '\\n')\n",
        "  img_path = InputDir + img_name\n",
        "  img = cv2.imread(img_path, cv2.IMREAD_UNCHANGED)\n",
        "  cv2_imshow(img)\n",
        "  print('\\n...........................................................................')"
      ],
      "execution_count": null,
      "outputs": []
    },
    {
      "cell_type": "markdown",
      "metadata": {
        "id": "0-3HN4TglKFE"
      },
      "source": [
        "####Calculate Precision and Recall"
      ]
    },
    {
      "cell_type": "code",
      "metadata": {
        "colab": {
          "base_uri": "https://localhost:8080/"
        },
        "id": "yv44VMDbWMp7",
        "outputId": "26bb6a9f-de9f-4f32-8016-11d9a5317b5a"
      },
      "source": [
        "min_TP = 0\n",
        "for i in MinkowskiDistance_min:\n",
        "  img_name = get_name(i).rstrip()\n",
        "  for j in relevant_images:\n",
        "    if img_name == j:\n",
        "      min_TP += 1\n",
        "    else:\n",
        "      pass\n",
        "min_precision = min_TP/retrieve_size\n",
        "min_recall = min_TP/len(relevant_images)\n",
        "print(\"Precision: \", min_precision)\n",
        "print(\"Recall: \", min_recall)"
      ],
      "execution_count": null,
      "outputs": [
        {
          "output_type": "stream",
          "text": [
            "Precision:  0.05\n",
            "Recall:  0.0196078431372549\n"
          ],
          "name": "stdout"
        }
      ]
    },
    {
      "cell_type": "markdown",
      "metadata": {
        "id": "YpzRUv3AbUW5"
      },
      "source": [
        "###Jaccard Distance"
      ]
    },
    {
      "cell_type": "markdown",
      "metadata": {
        "id": "3NbmcoGRlV3B"
      },
      "source": [
        "####Retrieve Images"
      ]
    },
    {
      "cell_type": "code",
      "metadata": {
        "id": "w26EDmxMWUcF"
      },
      "source": [
        "JaccardDistance = np.arange(size)\n",
        "for i in range(size):\n",
        "  img_vect = v[i]\n",
        "  JaccardDistance[i] = distance.jaccard(query_vector, img_vect)\n",
        "\n",
        "JaccardDistance_min = JaccardDistance.argsort()[:retrieve_size] #give us index of k minimum distance\n",
        "\n",
        "for i in JaccardDistance_min:\n",
        "  img_name = get_name(i).rstrip()\n",
        "  print(img_name + '\\n')\n",
        "  img_path = InputDir + img_name\n",
        "  img = cv2.imread(img_path, cv2.IMREAD_UNCHANGED)\n",
        "  cv2_imshow(img)\n",
        "  print('\\n...........................................................................')"
      ],
      "execution_count": null,
      "outputs": []
    },
    {
      "cell_type": "markdown",
      "metadata": {
        "id": "5D_uEfArlLCi"
      },
      "source": [
        "####Calculate Precision and Recall"
      ]
    },
    {
      "cell_type": "code",
      "metadata": {
        "colab": {
          "base_uri": "https://localhost:8080/"
        },
        "id": "IBUUPRhTWUqk",
        "outputId": "9f7afbc2-e1d1-4e54-cd39-ccd94d55cc26"
      },
      "source": [
        "jac_TP = 0\n",
        "for i in JaccardDistance_min:\n",
        "  img_name = get_name(i).rstrip()\n",
        "  for j in relevant_images:\n",
        "    if img_name == j:\n",
        "      jac_TP += 1\n",
        "    else:\n",
        "      pass\n",
        "jac_precision = jac_TP/retrieve_size\n",
        "jac_recall = jac_TP/len(relevant_images)\n",
        "print(\"Precision: \", jac_precision)\n",
        "print(\"Recall: \", jac_recall)"
      ],
      "execution_count": null,
      "outputs": [
        {
          "output_type": "stream",
          "text": [
            "Precision:  0.05\n",
            "Recall:  0.0196078431372549\n"
          ],
          "name": "stdout"
        }
      ]
    }
  ]
}